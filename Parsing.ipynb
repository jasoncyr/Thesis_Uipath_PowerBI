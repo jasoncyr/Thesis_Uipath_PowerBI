{
 "cells": [
  {
   "cell_type": "code",
   "execution_count": 1,
   "metadata": {},
   "outputs": [],
   "source": [
    "from ckiptagger import construct_dictionary, WS, POS\n",
    "ws = WS(\"C:/Users/jason/data\")\n",
    "pos = POS(\"C:/Users/jason/data\")\n",
    "\n",
    "#載入自定義字典\n",
    "dictionary1 = {}\n",
    "with open(\"word_to_weight.txt\", encoding = \"utf-8\") as f:\n",
    "    for line in f:\n",
    "       (key, val) = line.split()\n",
    "       dictionary1[key] = int(val)\n",
    "\n",
    "#斷詞、詞性標註結果整理        \n",
    "def w_pos(word):\n",
    "    a_ws = ws([word], coerce_dictionary = construct_dictionary(dictionary1))\n",
    "    a_pos = pos(a_ws)\n",
    "    b = \" \".join('%s' % a_pos[0][id] for id in range(len(a_pos[0])))\n",
    "    c = list(zip(a_ws[0], a_pos[0]))\n",
    "    print(c)\n",
    "    return c"
   ]
  },
  {
   "cell_type": "code",
   "execution_count": 2,
   "metadata": {},
   "outputs": [
    {
     "name": "stdout",
     "output_type": "stream",
     "text": [
      "請輸入文字：我想知道銷售人員的銷售額\n"
     ]
    }
   ],
   "source": [
    "text = input(\"請輸入文字：\")"
   ]
  },
  {
   "cell_type": "code",
   "execution_count": 3,
   "metadata": {},
   "outputs": [
    {
     "name": "stdout",
     "output_type": "stream",
     "text": [
      "[('我', 'Nh'), ('想', 'VE'), ('知道', 'VK'), ('銷售人員', 'Na'), ('的', 'DE'), ('銷售額', 'Na')]\n"
     ]
    }
   ],
   "source": [
    "a_w_pos = w_pos(text)\n",
    "a_list_ws, a_list_pos = [], []\n",
    "for i in range(len(a_w_pos)):\n",
    "    a_list_ws += [a_w_pos[i][0]]\n",
    "    #詞性\n",
    "    a_list_pos += [a_w_pos[i][1]]"
   ]
  },
  {
   "cell_type": "code",
   "execution_count": 4,
   "metadata": {},
   "outputs": [
    {
     "name": "stdout",
     "output_type": "stream",
     "text": [
      "{'time': '', 'location': '', 'VH': '', 'chart': '', 1: '銷售人員', 2: '銷售額'}\n"
     ]
    }
   ],
   "source": [
    "kw = {\"time\":'', \"location\":'', \"VH\":'', \"chart\":''}\n",
    "cnt_kw_dict = 1\n",
    "\n",
    "for i in range(len(a_list_pos)):\n",
    "    try:\n",
    "        if a_list_pos[i] == 'Nd':\n",
    "            kw['time'] += a_list_ws[i]\n",
    "        elif a_list_pos[i] == 'Nc':\n",
    "            kw['location'] += a_list_ws[i]\n",
    "        elif a_list_pos[i] == 'VH':\n",
    "            kw['VH'] += a_list_ws[i]\n",
    "        elif a_list_pos[i] == 'Caa':\n",
    "            kw[cnt_kw_dict] = a_list_ws[i-1]\n",
    "            cnt_kw_dict += 1\n",
    "        elif a_list_pos[i] == 'DE':\n",
    "            kw[cnt_kw_dict] = a_list_ws[i-1]\n",
    "            kw[cnt_kw_dict + 1] = a_list_ws[i+1]\n",
    "            cnt_kw_dict += 2\n",
    "        elif a_list_pos[i][:2] != 'Ne' and a_list_pos[i] != 'Nf' and a_list_pos[i][0] == 'N' and a_list_pos[i+1][0] == 'N' :\n",
    "            kw[cnt_kw_dict] = a_list_ws[i]\n",
    "            kw[cnt_kw_dict + 1] = a_list_ws[i+1]\n",
    "            cnt_kw_dict += 2\n",
    "    except:\n",
    "        pass\n",
    "if a_list_pos[1] == 'Na':\n",
    "    kw['chart'] += a_list_ws[1]\n",
    "if cnt_kw_dict >= 3 and kw['chart'][1:] == '條圖':\n",
    "    kw['chart'] = \"堆疊\" + kw['chart']\n",
    "    \n",
    "print(kw)\n",
    "import json\n",
    "\n",
    "dict_json = json.dumps(kw, ensure_ascii=False)\n",
    "with open('kw.json', 'w', encoding = \"utf-8\") as file:\n",
    "    file.write(dict_json)"
   ]
  },
  {
   "cell_type": "code",
   "execution_count": 5,
   "metadata": {},
   "outputs": [],
   "source": [
    "def sim(kw):\n",
    "    zz = kw * 5\n",
    "    # 讀入以空格插入於字與字中的文件\n",
    "    N_dict_list=[]\n",
    "    with open('dict_list1.txt', 'r') as file:\n",
    "        for i in file:\n",
    "            N_dict_list.append(i.strip('\\n').strip(\"['\").strip(\"']\").split(\"', '\"))\n",
    "    N_dict_list[0].insert(0, ' '.join(i for i in zz))\n",
    "    #字詞相似性\n",
    "    from sklearn.feature_extraction.text import CountVectorizer\n",
    "    from sklearn.metrics.pairwise import cosine_distances\n",
    "    vectorizer = CountVectorizer(token_pattern = r\"(?u)\\b\\w+\\b\")\n",
    "    X = vectorizer.fit_transform(N_dict_list[0])\n",
    "    csd = cosine_distances(X)\n",
    "    a = csd[0,:].argsort()[1]\n",
    "    #原始欄位名稱\n",
    "    colName = []\n",
    "    cnt = 0\n",
    "    with open('dict_list.txt', 'r') as file:\n",
    "        for i in file:\n",
    "            colName.append(i.strip('\\n').strip(\"['\").strip(\"']\").split(\"', '\"))\n",
    "    if csd[0, a] > 0.99 :\n",
    "        r = \"N N,\"+ kw\n",
    "        return r\n",
    "    else :\n",
    "        r = colName[0][a-1]\n",
    "        rs = [colName[0][a-1]]\n",
    "        rs_S = [str(1-csd[0, a])]\n",
    "        for i in range(1, len(csd)-1):\n",
    "            if abs(csd[0, a] - csd[0, csd[0,:].argsort()[i+1]])<0.01:\n",
    "                rs.append(colName[0][csd[0,:].argsort()[i+1]-1])\n",
    "                rs_S.append(str(1-csd[0, csd[0,:].argsort()[i+1]]))\n",
    "            else:\n",
    "                break\n",
    "        if len(rs)>1:\n",
    "            print(rs,rs_S)\n",
    "            return rs\n",
    "        else:\n",
    "            print(r,1-csd[0, a])\n",
    "            return r"
   ]
  },
  {
   "cell_type": "code",
   "execution_count": 6,
   "metadata": {},
   "outputs": [],
   "source": [
    "def sep_text(txtfile):\n",
    "    d = {}\n",
    "    with open(txtfile , encoding = \"utf-8\") as f:\n",
    "        for line in f:\n",
    "            (key, val) = line.strip('\\n').split('$')\n",
    "            d[key] = val\n",
    "    for k in d:\n",
    "        d[k] = d[k].split(\",\")\n",
    "    dict_list = []\n",
    "    # i + j 把表格名稱與欄位連在一起\n",
    "    #append 加入在list 中\n",
    "    for i in d:\n",
    "        #a += i\n",
    "        for j in d[i]:\n",
    "             dict_list.append(i + ',' +j)\n",
    "    with open('dict_list.txt', 'w') as file:\n",
    "        file.write(str(dict_list))\n",
    "    #join 將文字分割\n",
    "    dict_list_s = [' '] * len(dict_list)\n",
    "    for j in range(len(dict_list)):\n",
    "        dict_list_s[j] = ' '.join(i for i in dict_list[j])\n",
    "    with open('dict_list1.txt', 'w') as file:\n",
    "        file.write(str(dict_list_s))\n",
    "    return\n",
    "\n",
    "sep_text(\"dataName.txt\")"
   ]
  },
  {
   "cell_type": "code",
   "execution_count": 7,
   "metadata": {},
   "outputs": [
    {
     "name": "stdout",
     "output_type": "stream",
     "text": [
      "銷售 人員資料,銷售人員編號 0.8944271909999159\n",
      "['銷售 銷售訂單明細,產品銷售額', '銷售 人員資料,銷售額', '銷售 地區資料,銷售額'] ['0.808290376865476', '0.8006407690254357', '0.8006407690254357']\n"
     ]
    }
   ],
   "source": [
    "import json\n",
    "\n",
    "with open('kw.json' , 'r', encoding = \"utf-8\") as file:\n",
    "    jf = json.loads(file.read())\n",
    "\n",
    "pos = [\"多\", \"高\", \"大\", \"好\", \"佳\", \"優\"]\n",
    "neg = [\"少\", \"低\", \"小\", \"壞\", \"差\", \"劣\"]\n",
    "for i in jf:\n",
    "    if i == 'VH':\n",
    "        for j in pos:\n",
    "            if j in jf[i]:\n",
    "                jf[i] = \"DESC\"\n",
    "        for j in neg:\n",
    "            if j in jf[i]:\n",
    "                jf[i] = \"ASC\"\n",
    "    else:\n",
    "        jf[i] = sim(jf[i])\n",
    "        \n",
    "with open('kw_N.json' , 'w', encoding = \"utf-8\") as file:\n",
    "    json.dump(jf, file, ensure_ascii = False)"
   ]
  },
  {
   "cell_type": "code",
   "execution_count": 8,
   "metadata": {},
   "outputs": [],
   "source": [
    "del pos\n",
    "pos = POS(\"C:/Users/jason/data\")"
   ]
  },
  {
   "cell_type": "code",
   "execution_count": null,
   "metadata": {},
   "outputs": [],
   "source": []
  }
 ],
 "metadata": {
  "kernelspec": {
   "display_name": "Python 3",
   "language": "python",
   "name": "python3"
  },
  "language_info": {
   "codemirror_mode": {
    "name": "ipython",
    "version": 3
   },
   "file_extension": ".py",
   "mimetype": "text/x-python",
   "name": "python",
   "nbconvert_exporter": "python",
   "pygments_lexer": "ipython3",
   "version": "3.6.8"
  }
 },
 "nbformat": 4,
 "nbformat_minor": 2
}
